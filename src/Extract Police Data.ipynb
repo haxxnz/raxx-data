{
 "cells": [
  {
   "cell_type": "code",
   "execution_count": 1,
   "id": "214c73be-c6df-42fa-af0b-c6ca6916b2c6",
   "metadata": {},
   "outputs": [],
   "source": [
    "import csv\n",
    "import os\n"
   ]
  },
  {
   "cell_type": "code",
   "execution_count": 10,
   "id": "0c908ca1",
   "metadata": {},
   "outputs": [],
   "source": [
    "if not os.path.isfile('/hostshare/policedatadump_202240811.csv'):\n",
    "    print(\"Error: did not find file\")\n",
    "\n",
    "f = open('/hostshare/policedatadump_202240811.csv', encoding='utf-8-sig')\n",
    "reader = csv.DictReader(f)"
   ]
  },
  {
   "cell_type": "code",
   "execution_count": 11,
   "id": "b6f4eaa7",
   "metadata": {},
   "outputs": [
    {
     "name": "stdout",
     "output_type": "stream",
     "text": [
      "{'Year of Year Month': '2019', 'ANZSOC Group': 'Illegal Use of Property (Except Motor Vehicles)', 'Location Type Division': 'Not Applicable', 'OOI Exclusion': 'No offender proceeded against', 'Person/Organisation': 'Organisation', 'Year Month': 'Feb2019', 'OoI 180d Gp': 'No offender proceeded against', 'OoI 7d Gp': 'No offender proceeded against', 'OoI 90d Gp': 'No offender proceeded against', 'Victimisations': '1', 'Ytd Month': '8', 'Table 1': '1 Age Ethnicity Boundary', 'Police Area': 'Auckland Central Area', 'Outcome of Investigations': 'No offender proceeded against', 'Police District': 'Auckland City', 'Outcome Of Investigation 90': 'Withdrawn by victim', 'Outcome Of Investigation 7': 'Withdrawn by victim', 'Outcome Of Investigation 30': 'Withdrawn by victim', 'Outcome Of Investigation 180': 'Withdrawn by victim', 'Outcome of Investigation': 'No offender proceeded against', 'Ooi 90D Subdivision': 'No offender proceeded against', 'Ooi 90D Group': 'Withdrawn by victim/witness', 'Ooi 90D Division': 'Investigation finalised - no offender proceeded against', 'Ooi 7D Subdivision': 'No offender proceeded against', 'Ooi 7D Group': 'Withdrawn by victim/witness', 'Ooi 7D Division': 'Investigation finalised - no offender proceeded against', 'Ooi 30D Subdivision': 'No offender proceeded against', 'Ooi 30D Group': 'Withdrawn by victim/witness', 'OoI 30d Gp': 'No offender proceeded against', 'Ooi 30D Division': 'Investigation finalised - no offender proceeded against', 'Ooi 180D Subdivision': 'No offender proceeded against', 'Ooi 180D Group': 'Withdrawn by victim/witness', 'Ooi 180D Division': 'Investigation finalised - no offender proceeded against', 'Ethnicity': 'Organisation', 'Ethnic Group': 'Organisation', 'ANZSOC Subdivision': 'Illegal Use of Property (Except Motor Vehicles)', 'ANZSOC Division': 'Theft and Related Offences', 'Age Group 5Yr Band': 'Not Applicable', 'Age Group': 'NotApplicable'}\n",
      "{'Year of Year Month': '2016', 'ANZSOC Group': 'Illegal Use of a Motor Vehicle', 'Location Type Division': 'Not Applicable', 'OOI Exclusion': 'No offender proceeded against', 'Person/Organisation': 'Organisation', 'Year Month': 'Apr2016', 'OoI 180d Gp': 'No offender proceeded against', 'OoI 7d Gp': 'No offender proceeded against', 'OoI 90d Gp': 'No offender proceeded against', 'Victimisations': '1', 'Ytd Month': '10', 'Table 1': '1 Age Ethnicity Boundary', 'Police Area': 'Taupo Area', 'Outcome of Investigations': 'No offender proceeded against', 'Police District': 'Bay Of Plenty', 'Outcome Of Investigation 90': 'Informal warning or informal caution', 'Outcome Of Investigation 7': 'Informal warning or informal caution', 'Outcome Of Investigation 30': 'Informal warning or informal caution', 'Outcome Of Investigation 180': 'Informal warning or informal caution', 'Outcome of Investigation': 'No offender proceeded against', 'Ooi 90D Subdivision': 'No offender proceeded against', 'Ooi 90D Group': 'Informal warning or informal caution', 'Ooi 90D Division': 'Investigation finalised - no offender proceeded against', 'Ooi 7D Subdivision': 'No offender proceeded against', 'Ooi 7D Group': 'Informal warning or informal caution', 'Ooi 7D Division': 'Investigation finalised - no offender proceeded against', 'Ooi 30D Subdivision': 'No offender proceeded against', 'Ooi 30D Group': 'Informal warning or informal caution', 'OoI 30d Gp': 'No offender proceeded against', 'Ooi 30D Division': 'Investigation finalised - no offender proceeded against', 'Ooi 180D Subdivision': 'No offender proceeded against', 'Ooi 180D Group': 'Informal warning or informal caution', 'Ooi 180D Division': 'Investigation finalised - no offender proceeded against', 'Ethnicity': 'Organisation', 'Ethnic Group': 'Organisation', 'ANZSOC Subdivision': 'Motor Vehicle Theft and Related Offences', 'ANZSOC Division': 'Theft and Related Offences', 'Age Group 5Yr Band': 'Not Applicable', 'Age Group': 'NotApplicable'}\n",
      "{'Year of Year Month': '2016', 'ANZSOC Group': 'Illegal Use of a Motor Vehicle', 'Location Type Division': 'Not Applicable', 'OOI Exclusion': 'No offender proceeded against', 'Person/Organisation': 'Organisation', 'Year Month': 'May2016', 'OoI 180d Gp': 'No offender proceeded against', 'OoI 7d Gp': 'No offender proceeded against', 'OoI 90d Gp': 'No offender proceeded against', 'Victimisations': '1', 'Ytd Month': '11', 'Table 1': '1 Age Ethnicity Boundary', 'Police Area': 'Otago Coastal Area', 'Outcome of Investigations': 'No offender proceeded against', 'Police District': 'Southern', 'Outcome Of Investigation 90': 'Informal warning or informal caution', 'Outcome Of Investigation 7': 'Informal warning or informal caution', 'Outcome Of Investigation 30': 'Informal warning or informal caution', 'Outcome Of Investigation 180': 'Informal warning or informal caution', 'Outcome of Investigation': 'No offender proceeded against', 'Ooi 90D Subdivision': 'No offender proceeded against', 'Ooi 90D Group': 'Informal warning or informal caution', 'Ooi 90D Division': 'Investigation finalised - no offender proceeded against', 'Ooi 7D Subdivision': 'No offender proceeded against', 'Ooi 7D Group': 'Informal warning or informal caution', 'Ooi 7D Division': 'Investigation finalised - no offender proceeded against', 'Ooi 30D Subdivision': 'No offender proceeded against', 'Ooi 30D Group': 'Informal warning or informal caution', 'OoI 30d Gp': 'No offender proceeded against', 'Ooi 30D Division': 'Investigation finalised - no offender proceeded against', 'Ooi 180D Subdivision': 'No offender proceeded against', 'Ooi 180D Group': 'Informal warning or informal caution', 'Ooi 180D Division': 'Investigation finalised - no offender proceeded against', 'Ethnicity': 'Organisation', 'Ethnic Group': 'Organisation', 'ANZSOC Subdivision': 'Motor Vehicle Theft and Related Offences', 'ANZSOC Division': 'Theft and Related Offences', 'Age Group 5Yr Band': 'Not Applicable', 'Age Group': 'NotApplicable'}\n",
      "{'Year of Year Month': '2018', 'ANZSOC Group': 'Illegal Use of a Motor Vehicle', 'Location Type Division': 'Not Applicable', 'OOI Exclusion': 'No offender proceeded against', 'Person/Organisation': 'Organisation', 'Year Month': 'Dec2018', 'OoI 180d Gp': 'No offender proceeded against', 'OoI 7d Gp': 'No offender proceeded against', 'OoI 90d Gp': 'No offender proceeded against', 'Victimisations': '1', 'Ytd Month': '6', 'Table 1': '1 Age Ethnicity Boundary', 'Police Area': 'Waitemata North Area', 'Outcome of Investigations': 'No offender proceeded against', 'Police District': 'Waitemata', 'Outcome Of Investigation 90': 'Informal warning or informal caution', 'Outcome Of Investigation 7': 'Informal warning or informal caution', 'Outcome Of Investigation 30': 'Informal warning or informal caution', 'Outcome Of Investigation 180': 'Informal warning or informal caution', 'Outcome of Investigation': 'No offender proceeded against', 'Ooi 90D Subdivision': 'No offender proceeded against', 'Ooi 90D Group': 'Informal warning or informal caution', 'Ooi 90D Division': 'Investigation finalised - no offender proceeded against', 'Ooi 7D Subdivision': 'No offender proceeded against', 'Ooi 7D Group': 'Informal warning or informal caution', 'Ooi 7D Division': 'Investigation finalised - no offender proceeded against', 'Ooi 30D Subdivision': 'No offender proceeded against', 'Ooi 30D Group': 'Informal warning or informal caution', 'OoI 30d Gp': 'No offender proceeded against', 'Ooi 30D Division': 'Investigation finalised - no offender proceeded against', 'Ooi 180D Subdivision': 'No offender proceeded against', 'Ooi 180D Group': 'Informal warning or informal caution', 'Ooi 180D Division': 'Investigation finalised - no offender proceeded against', 'Ethnicity': 'Organisation', 'Ethnic Group': 'Organisation', 'ANZSOC Subdivision': 'Motor Vehicle Theft and Related Offences', 'ANZSOC Division': 'Theft and Related Offences', 'Age Group 5Yr Band': 'Not Applicable', 'Age Group': 'NotApplicable'}\n",
      "{'Year of Year Month': '2018', 'ANZSOC Group': 'Illegal Use of a Motor Vehicle', 'Location Type Division': 'Not Applicable', 'OOI Exclusion': 'No offender proceeded against', 'Person/Organisation': 'Organisation', 'Year Month': 'Mar2018', 'OoI 180d Gp': 'No offender proceeded against', 'OoI 7d Gp': 'No offender proceeded against', 'OoI 90d Gp': 'No offender proceeded against', 'Victimisations': '1', 'Ytd Month': '9', 'Table 1': '1 Age Ethnicity Boundary', 'Police Area': 'Waitemata East Area', 'Outcome of Investigations': 'No offender proceeded against', 'Police District': 'Waitemata', 'Outcome Of Investigation 90': 'No offender proceeded against, n.f.d.', 'Outcome Of Investigation 7': 'No offender proceeded against, n.f.d.', 'Outcome Of Investigation 30': 'No offender proceeded against, n.f.d.', 'Outcome Of Investigation 180': 'No offender proceeded against, n.f.d.', 'Outcome of Investigation': 'No offender proceeded against', 'Ooi 90D Subdivision': 'No offender proceeded against', 'Ooi 90D Group': 'No offender proceeded against, n.f.d.', 'Ooi 90D Division': 'Investigation finalised - no offender proceeded against', 'Ooi 7D Subdivision': 'No offender proceeded against', 'Ooi 7D Group': 'No offender proceeded against, n.f.d.', 'Ooi 7D Division': 'Investigation finalised - no offender proceeded against', 'Ooi 30D Subdivision': 'No offender proceeded against', 'Ooi 30D Group': 'No offender proceeded against, n.f.d.', 'OoI 30d Gp': 'No offender proceeded against', 'Ooi 30D Division': 'Investigation finalised - no offender proceeded against', 'Ooi 180D Subdivision': 'No offender proceeded against', 'Ooi 180D Group': 'No offender proceeded against, n.f.d.', 'Ooi 180D Division': 'Investigation finalised - no offender proceeded against', 'Ethnicity': 'Organisation', 'Ethnic Group': 'Organisation', 'ANZSOC Subdivision': 'Motor Vehicle Theft and Related Offences', 'ANZSOC Division': 'Theft and Related Offences', 'Age Group 5Yr Band': 'Not Applicable', 'Age Group': 'NotApplicable'}\n",
      "{'Year of Year Month': '2018', 'ANZSOC Group': 'Illegal Use of a Motor Vehicle', 'Location Type Division': 'Not Applicable', 'OOI Exclusion': 'No offender proceeded against', 'Person/Organisation': 'Organisation', 'Year Month': 'Apr2018', 'OoI 180d Gp': 'No offender proceeded against', 'OoI 7d Gp': 'No offender proceeded against', 'OoI 90d Gp': 'No offender proceeded against', 'Victimisations': '1', 'Ytd Month': '10', 'Table 1': '1 Age Ethnicity Boundary', 'Police Area': 'Counties Manukau East Area', 'Outcome of Investigations': 'No offender proceeded against', 'Police District': 'Counties/Manukau', 'Outcome Of Investigation 90': 'Transferred to another jurisdiction', 'Outcome Of Investigation 7': 'Transferred to another jurisdiction', 'Outcome Of Investigation 30': 'Transferred to another jurisdiction', 'Outcome Of Investigation 180': 'Transferred to another jurisdiction', 'Outcome of Investigation': 'No offender proceeded against', 'Ooi 90D Subdivision': 'No offender proceeded against', 'Ooi 90D Group': 'Transferred to another jurisdiction', 'Ooi 90D Division': 'Investigation finalised - no offender proceeded against', 'Ooi 7D Subdivision': 'No offender proceeded against', 'Ooi 7D Group': 'Transferred to another jurisdiction', 'Ooi 7D Division': 'Investigation finalised - no offender proceeded against', 'Ooi 30D Subdivision': 'No offender proceeded against', 'Ooi 30D Group': 'Transferred to another jurisdiction', 'OoI 30d Gp': 'No offender proceeded against', 'Ooi 30D Division': 'Investigation finalised - no offender proceeded against', 'Ooi 180D Subdivision': 'No offender proceeded against', 'Ooi 180D Group': 'Transferred to another jurisdiction', 'Ooi 180D Division': 'Investigation finalised - no offender proceeded against', 'Ethnicity': 'Organisation', 'Ethnic Group': 'Organisation', 'ANZSOC Subdivision': 'Motor Vehicle Theft and Related Offences', 'ANZSOC Division': 'Theft and Related Offences', 'Age Group 5Yr Band': 'Not Applicable', 'Age Group': 'NotApplicable'}\n"
     ]
    }
   ],
   "source": [
    "police_areas = {}\n",
    "\n",
    "months = {\n",
    "    'Jan': 1,\n",
    "    'Feb': 2,\n",
    "    'Mar': 3,\n",
    "    'Apr': 4,\n",
    "    'May': 5,\n",
    "    'Jun': 6,\n",
    "    'Jul': 7,\n",
    "    'Aug': 8,\n",
    "    'Sep': 9,\n",
    "    'Oct': 10,\n",
    "    'Nov': 11,\n",
    "    'Dec': 12\n",
    "}\n",
    "\n",
    "class Incidents:\n",
    "    def __init__(self, year, month, count) -> None:\n",
    "        self.year = year\n",
    "        self.month = month\n",
    "        self.count = count\n",
    "\n",
    "for row in reader:\n",
    "    yearmonth = row['Year Month']\n",
    "    police_area_read = row['Police Area']\n",
    "    \n",
    "    police_area = police_areas.setdefault(police_area_read, )\n",
    "\n"
   ]
  }
 ],
 "metadata": {
  "kernelspec": {
   "display_name": "Python 3 (ipykernel)",
   "language": "python",
   "name": "python3"
  },
  "language_info": {
   "codemirror_mode": {
    "name": "ipython",
    "version": 3
   },
   "file_extension": ".py",
   "mimetype": "text/x-python",
   "name": "python",
   "nbconvert_exporter": "python",
   "pygments_lexer": "ipython3",
   "version": "3.12.5"
  }
 },
 "nbformat": 4,
 "nbformat_minor": 5
}
