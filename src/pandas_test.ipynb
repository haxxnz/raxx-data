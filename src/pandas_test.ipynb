{
 "cells": [
  {
   "cell_type": "code",
   "execution_count": null,
   "metadata": {},
   "outputs": [],
   "source": [
    "import json\n",
    "import os\n",
    "import re\n",
    "\n",
    "import pandas as pd"
   ]
  },
  {
   "cell_type": "code",
   "execution_count": null,
   "metadata": {},
   "outputs": [],
   "source": [
    "PICKLE_FILE='./policedata_20240825_df.pd'\n",
    "\n",
    "if os.path.isfile(PICKLE_FILE):\n",
    "    df = pd.read_pickle(PICKLE_FILE)\n",
    "else:\n",
    "    with open('/hostshare/police_victimizations_20240807.csv', 'r', encoding='utf-16-le') as f:\n",
    "        df = pd.read_csv(f, delimiter='\\t')\n",
    "    pd.to_pickle(df, PICKLE_FILE)"
   ]
  },
  {
   "cell_type": "code",
   "execution_count": null,
   "metadata": {},
   "outputs": [],
   "source": [
    "df.head()"
   ]
  },
  {
   "cell_type": "code",
   "execution_count": null,
   "metadata": {},
   "outputs": [],
   "source": [
    "subset = df[[\"ANZSOC Subdivision\", \"ANZSOC Division\", \"Year Month\", \"Area Unit\", \"Territorial Authority\"]]\n",
    "# Various data cleaning\n",
    "subset[\"Area Unit\"] = subset[\"Area Unit\"].str.strip('.')\n",
    "subset[\"Territorial Authority\"] = subset[\"Territorial Authority\"].str.strip('.')\n",
    "subset[[\"Month\", \"Year\"]] = subset[\"Year Month\"].str.split(' ', expand=True)\n",
    "del subset[\"Year Month\"]\n",
    "subset['Year'] = pd.to_numeric(subset['Year'])\n",
    "\n",
    "months = {\n",
    "    'January': 1,\n",
    "    'February': 2,\n",
    "    'March': 3,\n",
    "    'April': 4,\n",
    "    'May': 5,\n",
    "    'June': 6,\n",
    "    'July': 7,\n",
    "    'August': 8,\n",
    "    'September': 9,\n",
    "    'October': 10,\n",
    "    'November': 11,\n",
    "    \"December\": 12\n",
    "}\n",
    "\n",
    "subset['Month'] = subset['Month'].map(lambda a: months[a])\n",
    "number_regex=re.compile(r'-?\\d+(\\.\\d*)?')\n",
    "\n",
    "subset[subset['Area Unit'].str.match(number_regex)]['Area Unit'] = subset['Territorial Authority']"
   ]
  },
  {
   "cell_type": "code",
   "execution_count": null,
   "metadata": {},
   "outputs": [],
   "source": [
    "subset.to_pickle('./policedata_20240825_cleaned.pd')"
   ]
  },
  {
   "cell_type": "code",
   "execution_count": null,
   "metadata": {},
   "outputs": [],
   "source": [
    "subset.head()"
   ]
  },
  {
   "cell_type": "code",
   "execution_count": null,
   "metadata": {},
   "outputs": [],
   "source": [
    "year_2024_crime_leaderboard = subset.query('Year==2024').groupby([\"ANZSOC Division\", \"Area Unit\"]).size().sort_values(ascending=False)\n"
   ]
  },
  {
   "cell_type": "code",
   "execution_count": null,
   "metadata": {},
   "outputs": [],
   "source": [
    "crimes = {}\n",
    "\n",
    "for (crime, area), crime_count in year_2024_crime_leaderboard.items():\n",
    "    crime_list = crimes.setdefault(crime, [])\n",
    "    crime_list.append((area, crime_count))\n",
    "\n",
    "for crime, crime_list in crimes.items():\n",
    "    crime = re.sub('[^A-Za-z ]', '', crime)\n",
    "    crime_snake = '_'.join(crime.split()).lower()\n",
    "\n",
    "    with open('../data/leaderboard_2024_divisions/{}.json'.format(crime_snake), 'w') as f:\n",
    "        json.dump(crime_list, f)"
   ]
  },
  {
   "cell_type": "code",
   "execution_count": null,
   "metadata": {},
   "outputs": [],
   "source": []
  }
 ],
 "metadata": {
  "kernelspec": {
   "display_name": "fbiopenup",
   "language": "python",
   "name": "python3"
  },
  "language_info": {
   "codemirror_mode": {
    "name": "ipython",
    "version": 3
   },
   "file_extension": ".py",
   "mimetype": "text/x-python",
   "name": "python",
   "nbconvert_exporter": "python",
   "pygments_lexer": "ipython3",
   "version": "3.12.5"
  }
 },
 "nbformat": 4,
 "nbformat_minor": 2
}
